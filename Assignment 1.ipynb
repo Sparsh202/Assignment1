{
 "cells": [
  {
   "cell_type": "code",
   "execution_count": null,
   "id": "24c6122c-6e2f-4d19-8fb3-b4f18053919c",
   "metadata": {},
   "outputs": [],
   "source": [
    "# Q 1\n",
    "# taking vaeriable a \n",
    "#(i) for string\n",
    "a = \"Hello World\"\n",
    "#(ii) for list \n",
    "a = [1 ,2 ,3 ,4 ,\"hello\" ,45.235 ]\n",
    "#(iii) for float \n",
    "a = 45.235\n",
    "#(iv) for tuple \n",
    "a = (1 ,2 ,3)"
   ]
  },
  {
   "cell_type": "code",
   "execution_count": 1,
   "id": "cfe4a86e-f925-48d2-ab06-b46b0db93c67",
   "metadata": {},
   "outputs": [
    {
     "data": {
      "text/plain": [
       "str"
      ]
     },
     "execution_count": 1,
     "metadata": {},
     "output_type": "execute_result"
    }
   ],
   "source": [
    "#Q 2 \n",
    "#data type for the following variables are\n",
    "#(i)\n",
    "var1 = ''\n",
    "type(var1)"
   ]
  },
  {
   "cell_type": "code",
   "execution_count": 2,
   "id": "137d29f8-7378-480b-99e9-00f4e8addf5f",
   "metadata": {},
   "outputs": [
    {
     "data": {
      "text/plain": [
       "str"
      ]
     },
     "execution_count": 2,
     "metadata": {},
     "output_type": "execute_result"
    }
   ],
   "source": [
    "#(ii)\n",
    "var2 = '[DS, ML , Pyhton ]'\n",
    "type(var2)"
   ]
  },
  {
   "cell_type": "code",
   "execution_count": 3,
   "id": "af4a16b1-50cb-4763-82f2-a09970a6ffa9",
   "metadata": {},
   "outputs": [
    {
     "data": {
      "text/plain": [
       "list"
      ]
     },
     "execution_count": 3,
     "metadata": {},
     "output_type": "execute_result"
    }
   ],
   "source": [
    "#(iii)\n",
    "var3 = ['DS', 'ML', 'Python']\n",
    "type(var3)"
   ]
  },
  {
   "cell_type": "code",
   "execution_count": 4,
   "id": "9192cc55-ee8d-4288-954b-7e8b274ec7ef",
   "metadata": {},
   "outputs": [
    {
     "data": {
      "text/plain": [
       "int"
      ]
     },
     "execution_count": 4,
     "metadata": {},
     "output_type": "execute_result"
    }
   ],
   "source": [
    "#(iv)\n",
    "var4 = 1\n",
    "type(var4)"
   ]
  },
  {
   "cell_type": "code",
   "execution_count": 6,
   "id": "8f5398ad-2ff3-445b-9790-bb97b874b69c",
   "metadata": {},
   "outputs": [
    {
     "data": {
      "text/plain": [
       "3.0"
      ]
     },
     "execution_count": 6,
     "metadata": {},
     "output_type": "execute_result"
    }
   ],
   "source": [
    "#Q3 \n",
    "#(i)\n",
    "# / -: '/' is for division in python if we have to divide two variabels than '/' will be written between the two variables.\n",
    "\n",
    "#example :\n",
    "\n",
    "a = 9\n",
    "b = 3\n",
    "a / b "
   ]
  },
  {
   "cell_type": "code",
   "execution_count": 7,
   "id": "dafa1b0d-ff1c-46d2-9ff1-3b9e6420eb7a",
   "metadata": {},
   "outputs": [
    {
     "data": {
      "text/plain": [
       "2"
      ]
     },
     "execution_count": 7,
     "metadata": {},
     "output_type": "execute_result"
    }
   ],
   "source": [
    "#(ii)\n",
    "# % = '%' is called as modulus operator which provides rewmainder of dividing the left hand operand with the right hand operand, it's used to get the remainder of a divison problem\n",
    "# for example \n",
    "a = 8 \n",
    "b = 3\n",
    "a % b"
   ]
  },
  {
   "cell_type": "code",
   "execution_count": 1,
   "id": "12b0eb99-ef34-455e-8977-f061eb6a42fc",
   "metadata": {},
   "outputs": [
    {
     "data": {
      "text/plain": [
       "3"
      ]
     },
     "execution_count": 1,
     "metadata": {},
     "output_type": "execute_result"
    }
   ],
   "source": [
    "#(iii) \n",
    "# // -: '//' is known as floor division operator. It divides and returns the integer value of the quotient.\n",
    "#example \n",
    "a = 10 \n",
    "b = 3 \n",
    "a // b"
   ]
  },
  {
   "cell_type": "code",
   "execution_count": 2,
   "id": "20b19d96-76c7-45b1-b7ce-5f77827acc08",
   "metadata": {},
   "outputs": [
    {
     "data": {
      "text/plain": [
       "256"
      ]
     },
     "execution_count": 2,
     "metadata": {},
     "output_type": "execute_result"
    }
   ],
   "source": [
    "#(iv)\n",
    "# ** -: '**' is exponent operator it is raises first no. to the power of the second.\n",
    "#example \n",
    "a = 2\n",
    "b = 8\n",
    "a ** b "
   ]
  },
  {
   "cell_type": "code",
   "execution_count": 8,
   "id": "2a11cd8d-35d2-4849-9752-9bec17965c71",
   "metadata": {},
   "outputs": [
    {
     "name": "stdout",
     "output_type": "stream",
     "text": [
      "a <class 'str'>\n",
      "b <class 'str'>\n",
      "c <class 'str'>\n",
      "d <class 'str'>\n",
      "True <class 'bool'>\n",
      "45 <class 'int'>\n",
      "45.98 <class 'float'>\n",
      "False <class 'bool'>\n",
      "(2+3j) <class 'complex'>\n",
      "77.12 <class 'float'>\n"
     ]
    }
   ],
   "source": [
    "#Q4\n",
    "list = ['a', 'b', 'c', 'd', True, 45, 45.98, False , a + 3j , 77.12 ]\n",
    "for i in list:\n",
    "    print(i, type(i))"
   ]
  },
  {
   "cell_type": "code",
   "execution_count": 11,
   "id": "5e1a2c56-70e3-4072-b7c7-06398a93f61b",
   "metadata": {},
   "outputs": [
    {
     "name": "stdin",
     "output_type": "stream",
     "text": [
      "Enter the value of A:  28\n",
      "Enter the value of B:  2\n"
     ]
    },
    {
     "name": "stdout",
     "output_type": "stream",
     "text": [
      "7 is divisible by 2 and can be divided 2 times.\n"
     ]
    }
   ],
   "source": [
    "A = int(input(\"Enter the value of A: \"))\n",
    "B = int(input(\"Enter the value of B: \"))\n",
    "\n",
    "divisions = 0\n",
    "\n",
    "while A % B == 0:\n",
    "    A //= B\n",
    "    divisions += 1\n",
    "\n",
    "result = str(A) + \" is divisible by \" + str(B) + \" and can be divided \" + str(divisions) + \" times.\" if divisions > 0 else str(A) + \" is not divisible by \" + str(B) + \".\"\n",
    "print(result)\n"
   ]
  },
  {
   "cell_type": "code",
   "execution_count": 12,
   "id": "b38adfc0-deeb-47b2-8a58-529d0ca702de",
   "metadata": {},
   "outputs": [
    {
     "name": "stdout",
     "output_type": "stream",
     "text": [
      "2 is not divisible by 3.\n",
      "9 is divisible by 3.\n",
      "14 is not divisible by 3.\n",
      "21 is divisible by 3.\n",
      "6 is divisible by 3.\n",
      "33 is divisible by 3.\n",
      "18 is divisible by 3.\n",
      "4 is not divisible by 3.\n",
      "12 is divisible by 3.\n",
      "27 is divisible by 3.\n",
      "8 is not divisible by 3.\n",
      "16 is not divisible by 3.\n",
      "30 is divisible by 3.\n",
      "11 is not divisible by 3.\n",
      "20 is not divisible by 3.\n",
      "3 is divisible by 3.\n",
      "25 is not divisible by 3.\n",
      "22 is not divisible by 3.\n",
      "13 is not divisible by 3.\n",
      "19 is not divisible by 3.\n",
      "7 is not divisible by 3.\n",
      "17 is not divisible by 3.\n",
      "28 is not divisible by 3.\n",
      "10 is not divisible by 3.\n",
      "15 is divisible by 3.\n"
     ]
    }
   ],
   "source": [
    "#Q6\n",
    "my_list = [2, 9, 14, 21, 6, 33, 18, 4, 12, 27, 8, 16, 30, 11, 20, 3, 25, 22, 13, 19, 7, 17, 28, 10, 15]\n",
    "\n",
    "for num in my_list:\n",
    "    if num % 3 == 0:\n",
    "        print(f\"{num} is divisible by 3.\")\n",
    "    else:\n",
    "        print(f\"{num} is not divisible by 3.\")\n"
   ]
  },
  {
   "cell_type": "code",
   "execution_count": null,
   "id": "707c08c5-bb36-4c1f-adbc-caf0d454d9d0",
   "metadata": {},
   "outputs": [],
   "source": [
    "#Q7\n",
    "#Mutability and Immutability in python is the property of the data types that determine whether their values can be changed after they are created.\n",
    "# for example \n",
    "a = 'hello'\n",
    "#we can't change the string or replace the string alphabets with another alphabets. That's why string immutable in nature.\n",
    "a = [ 1, 2 ,3 ,4 ] \n",
    "# Lists are mutable in nature because it can be modified "
   ]
  }
 ],
 "metadata": {
  "kernelspec": {
   "display_name": "Python 3 (ipykernel)",
   "language": "python",
   "name": "python3"
  },
  "language_info": {
   "codemirror_mode": {
    "name": "ipython",
    "version": 3
   },
   "file_extension": ".py",
   "mimetype": "text/x-python",
   "name": "python",
   "nbconvert_exporter": "python",
   "pygments_lexer": "ipython3",
   "version": "3.10.8"
  }
 },
 "nbformat": 4,
 "nbformat_minor": 5
}
